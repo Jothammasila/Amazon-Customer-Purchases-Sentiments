{
  "nbformat": 4,
  "nbformat_minor": 0,
  "metadata": {
    "colab": {
      "private_outputs": true,
      "provenance": []
    },
    "kernelspec": {
      "name": "python3",
      "display_name": "Python 3"
    },
    "language_info": {
      "name": "python"
    }
  },
  "cells": [
    {
      "cell_type": "code",
      "execution_count": null,
      "metadata": {
        "id": "feKe6qc2XKOV"
      },
      "outputs": [],
      "source": [
        "from google.colab import drive\n",
        "drive.mount('/content/drive')"
      ]
    },
    {
      "cell_type": "code",
      "source": [
        "# import csv\n",
        "\n",
        "# # Open the tab-separated file for reading\n",
        "# with open('/content/drive/MyDrive/Sentiments/Sentiments/yelp_customer_sentiments.txt', 'r') as yelp_customer_sentiments:\n",
        "\n",
        "#     # Create a CSV file for writing\n",
        "#     with open('/content/drive/MyDrive/Sentiments/Sentiments/yelp_customer_sentiments.csv', 'w', newline='') as sentiments_csv:\n",
        "\n",
        "#         # Create a CSV writer object\n",
        "#         csvwriter = csv.writer(sentiments_csv)\n",
        "\n",
        "#         # Loop through each line of the tab-separated file\n",
        "#         for line in yelp_customer_sentiments:\n",
        "\n",
        "#             # Split the line by tabs\n",
        "#             row = line.strip().split('\\t')\n",
        "\n",
        "#             # Write the row to the CSV file\n",
        "#             csvwriter.writerow(row)\n",
        "\n"
      ],
      "metadata": {
        "id": "8MI4kxAPYvV4"
      },
      "execution_count": null,
      "outputs": []
    },
    {
      "cell_type": "code",
      "source": [
        "# Import the necessary libraries\n",
        "import numpy as np\n",
        "import os\n",
        "import joblib\n",
        "import pandas as pd\n",
        "from sklearn.feature_extraction.text import CountVectorizer\n",
        "from sklearn.linear_model import LogisticRegression\n",
        "from sklearn.metrics import accuracy_score\n",
        "from sklearn.model_selection import train_test_split\n",
        "\n",
        "# Load the dataset\n",
        "sentiment_df = pd.read_excel('/content/drive/MyDrive/Sentiments/Sentiments/amazon_customer_sentiment.xlsx')"
      ],
      "metadata": {
        "id": "b0-OpTslcCBu"
      },
      "execution_count": null,
      "outputs": []
    },
    {
      "cell_type": "code",
      "source": [
        "sentiment_df.head()"
      ],
      "metadata": {
        "id": "vtHv52H9udXS"
      },
      "execution_count": null,
      "outputs": []
    },
    {
      "cell_type": "code",
      "source": [
        "# Preprocess the data\n",
        "sentiment_df['review'] = sentiment_df['review'].str.replace('\\d+', '',regex=True)  # Remove digits\n",
        "sentiment_df['review'] = sentiment_df['review'].str.replace('[^\\w\\s]', '',regex=True)  # Remove punctuation\n",
        "sentiment_df['review'] = sentiment_df['review'].str.lower()  # Convert to lowercase\n"
      ],
      "metadata": {
        "id": "Xv6GX4w0r7Z2"
      },
      "execution_count": null,
      "outputs": []
    },
    {
      "cell_type": "code",
      "source": [
        "# Vectorize the text data\n",
        "vectorizer = CountVectorizer(stop_words='english')\n",
        "X = vectorizer.fit_transform(sentiment_df['review'])\n",
        "y = sentiment_df['sentiment']"
      ],
      "metadata": {
        "id": "3poKn-KpsBty"
      },
      "execution_count": null,
      "outputs": []
    },
    {
      "cell_type": "code",
      "source": [
        "# # Split the data into training and testing sets\n",
        "X_train, X_test, y_train, y_test = train_test_split(X, y, test_size=0.2, random_state=42)"
      ],
      "metadata": {
        "id": "mZoeys4msTZl"
      },
      "execution_count": null,
      "outputs": []
    },
    {
      "cell_type": "code",
      "source": [
        "# # Build and train the model\n",
        "# model = LogisticRegression(max_iter=10000)\n",
        "# model.fit(X_train, y_train)"
      ],
      "metadata": {
        "id": "Cg-0jJgXsVhA"
      },
      "execution_count": null,
      "outputs": []
    },
    {
      "cell_type": "code",
      "source": [
        "\n",
        "# # Evaluate the model on test data\n",
        "# y_pred = model.predict(X_test)\n",
        "# accuracy = accuracy_score(y_test, y_pred)\n",
        "# print(f'Accuracy: {accuracy}')"
      ],
      "metadata": {
        "id": "pIUVmOLSsjG_"
      },
      "execution_count": null,
      "outputs": []
    },
    {
      "cell_type": "code",
      "source": [
        "# # Save the model to a file\n",
        "# joblib.dump(model, os.path.join('/content/drive/MyDrive/Sentiments/Sentiments', 'amazon_customer_model.pkl'))"
      ],
      "metadata": {
        "id": "r-qAX-R65I6q"
      },
      "execution_count": null,
      "outputs": []
    },
    {
      "cell_type": "code",
      "source": [],
      "metadata": {
        "id": "bvhkk5k05uNy"
      },
      "execution_count": null,
      "outputs": []
    },
    {
      "cell_type": "code",
      "source": [
        "# load the model\n",
        "model_file = '/content/drive/MyDrive/Sentiments/Sentiments/amazon_customer_model.pkl'\n",
        "model = joblib.load(model_file)\n",
        "\n",
        "\n",
        "# use the model for predictions\n",
        "# predicted_labels = model.predict(X_test)\n",
        "predicted_labels = model.predict(X_test)\n"
      ],
      "metadata": {
        "id": "LaXO0cKa8YZ2"
      },
      "execution_count": null,
      "outputs": []
    },
    {
      "cell_type": "code",
      "source": [
        "# for i, (text, label) in enumerate(zip(X_test, predicted_labels)):\n",
        "#     print(f\"Example {i+1}:\")\n",
        "#     print(f\"Text: {text}\")\n",
        "#     print(f\"Predicted Label: {'Positive' if label==1 else 'Negative'}\")\n",
        "#     print(\"-\"*50)"
      ],
      "metadata": {
        "id": "6JhKo4yc9LGf"
      },
      "execution_count": null,
      "outputs": []
    },
    {
      "cell_type": "code",
      "source": [
        "\n",
        "import matplotlib.pyplot as plt\n",
        "import seaborn as sns\n",
        "from sklearn.metrics import confusion_matrix\n",
        "\n",
        "# Create confusion matrix\n",
        "cm = confusion_matrix(y_test, predicted_labels)\n",
        "\n",
        "# Plot confusion matrix as a heatmap\n",
        "sns.heatmap(cm, annot=True, cmap=\"Blues\", fmt=\"d\", annot_kws={\"fontsize\":20})\n",
        "plt.title(\"Confusion Matrix\", fontsize=15)\n",
        "plt.xlabel(\"Predicted Label\", fontsize=10)\n",
        "plt.ylabel(\"True Label\", fontsize=10)\n",
        "plt.show()\n"
      ],
      "metadata": {
        "id": "3p9V1b_-HinB"
      },
      "execution_count": null,
      "outputs": []
    },
    {
      "cell_type": "code",
      "source": [
        "#Make predictions on new statements\n",
        "X_new = [\"The plot was fantastic\", \"I abhor the characters\"]\n",
        "X_new_vectors = vectorizer.transform(X_new)\n",
        "pred = model.predict(X_new_vectors)"
      ],
      "metadata": {
        "id": "0osrqmk9Jngi"
      },
      "execution_count": null,
      "outputs": []
    },
    {
      "cell_type": "code",
      "source": [
        "# Print predictions\n",
        "for statement, sentiment in zip(X_new, pred):\n",
        "    print(f\"The sentiment of '{statement}' is {sentiment}\")"
      ],
      "metadata": {
        "id": "NukXFbbnlApM"
      },
      "execution_count": null,
      "outputs": []
    },
    {
      "cell_type": "code",
      "source": [
        "# # Create confusion matrix\n",
        "# cm = confusion_matrix(y_test, predicted_labels)\n",
        "\n",
        "# # Plot confusion matrix as a heatmap\n",
        "# sns.heatmap(cm, annot=True, cmap=\"Blues\", fmt=\"d\", annot_kws={\"fontsize\":20})\n",
        "# plt.title(\"Confusion Matrix\", fontsize=15)\n",
        "# plt.xlabel(\"Predicted Label\", fontsize=10)\n",
        "# plt.ylabel(\"True Label\", fontsize=10)\n",
        "# plt.show()"
      ],
      "metadata": {
        "id": "jx_XWSPVlKuJ"
      },
      "execution_count": null,
      "outputs": []
    },
    {
      "cell_type": "code",
      "source": [],
      "metadata": {
        "id": "KmnpXVuwqFBf"
      },
      "execution_count": null,
      "outputs": []
    }
  ]
}